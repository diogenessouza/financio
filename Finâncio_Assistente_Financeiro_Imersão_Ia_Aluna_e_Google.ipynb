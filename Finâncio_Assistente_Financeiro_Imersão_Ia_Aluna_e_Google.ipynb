{
  "cells": [
    {
      "cell_type": "markdown",
      "metadata": {
        "id": "view-in-github",
        "colab_type": "text"
      },
      "source": [
        "<a href=\"https://colab.research.google.com/github/diogenessouza/financio/blob/main/Fin%C3%A2ncio_Assistente_Financeiro_Imers%C3%A3o_Ia_Aluna_e_Google.ipynb\" target=\"_parent\"><img src=\"https://colab.research.google.com/assets/colab-badge.svg\" alt=\"Open In Colab\"/></a>"
      ]
    },
    {
      "cell_type": "code",
      "execution_count": null,
      "metadata": {
        "colab": {
          "base_uri": "https://localhost:8080/",
          "height": 1000
        },
        "id": "xd5OakzrGg-7",
        "outputId": "315d2d12-e906-496e-b3ec-51e76700906d"
      },
      "outputs": [
        {
          "data": {
            "text/markdown": " # Finâncio, seu assistente financeiro 💰 <br>",
            "text/plain": [
              "<IPython.core.display.Markdown object>"
            ]
          },
          "metadata": {},
          "output_type": "display_data"
        },
        {
          "data": {
            "text/markdown": "<font color=\"gray\"> Escreva abaixo sua mensagem para iniciar a conversa com o Finâncio. <br> Para finalizar a interação, digite **Fim**</font> <br><br> ",
            "text/plain": [
              "<IPython.core.display.Markdown object>"
            ]
          },
          "metadata": {},
          "output_type": "display_data"
        },
        {
          "data": {
            "text/markdown": "___ \n🤖Finâncio: \nE aí, **federalis**! Beleza? 😉 \n\nQue bom ter você por aqui! Eu sou seu novo assistente financeiro, aqui para te ajudar a dominar suas finanças e alcançar seus objetivos. 💪\n\nPara começarmos com tudo, me conta: qual o seu maior objetivo financeiro no momento? 💰\n\nPor exemplo:\n\n*   Quitar dívidas? 💳\n*   Guardar para uma viagem? ✈️\n*   Comprar um carro novo? 🚗\n\nA partir da sua resposta, vou te ajudar a traçar o melhor plano! 😉🚀 \n\n ",
            "text/plain": [
              "<IPython.core.display.Markdown object>"
            ]
          },
          "metadata": {},
          "output_type": "display_data"
        },
        {
          "data": {
            "text/markdown": "___ \n🤖Finâncio: \nAhah, entendi, federalis! Ser bilionário sem trabalhar é o sonho de muita gente, né? 😅 Mas, vamos ser realistas: as chances de isso acontecer são bem pequenas. \n\nMas calma, isso não significa que você não possa ter uma vida financeira incrível e alcançar seus objetivos! 💪🚀 \n\nQue tal focarmos em algo mais tangível? Me fale um objetivo que você gostaria de alcançar, algo que dependa do seu esforço e que te traga satisfação. \n\nPor exemplo: \n\n*   Fazer uma viagem inesquecível? ✈️🌎\n*   Comprar um videogame novo? 🎮\n*   Ter uma reserva de emergência para imprevistos? 💰\n\nSe você tiver um objetivo, mesmo que não seja ser bilionário, eu posso te ajudar a criar um plano para alcançá-lo! 😉 \n\nE quem sabe, com muita disciplina e trabalho duro, você não chega mais perto do seu sonho de ser bilionário? 😉💰 \n\nO que me diz? Qual o seu objetivo real? 🎯\n\n ",
            "text/plain": [
              "<IPython.core.display.Markdown object>"
            ]
          },
          "metadata": {},
          "output_type": "display_data"
        },
        {
          "data": {
            "text/markdown": "___ \n🤖Finâncio: \nÉ, federalis, você tem razão que nada é impossível! 😅 Já vimos histórias de pessoas que ficaram ricas de forma inesperada, como ganhando na loteria ou herdando uma fortuna. Mas, sejamos sinceros, a probabilidade disso acontecer é bem pequena, né? \n\nSonhar alto é importante, mas ter os pés no chão também! 😉\n\nPara te ajudar de verdade a ter uma vida financeira mais tranquila e alcançar seus objetivos, preciso que você seja sincero comigo. Me fale: qual objetivo **realista** você gostaria de alcançar? 💪\n\nPense em algo que você possa realizar com seu esforço e dedicação, como:\n\n*   **Quitar uma dívida:**  Acabar com aquela dívida que te tira o sono. 💳🚫\n*   **Fazer uma viagem:**  Conhecer aquele lugar que você sempre sonhou. ✈️🌎\n*   **Comprar algo que você deseja:**  Aquele celular novo, um carro, ou até uma casa própria! 🏠🚗📱\n\nQualquer que seja seu objetivo, estou aqui para te ajudar a traçar um plano e torná-lo realidade! 💪 Conte comigo! 😉  \n\nE lembre-se:  mesmo que você não vire um bilionário da noite para o dia, conquistar seus objetivos com seu próprio esforço é muito mais gratificante! 😊💰 \n\n ",
            "text/plain": [
              "<IPython.core.display.Markdown object>"
            ]
          },
          "metadata": {},
          "output_type": "display_data"
        },
        {
          "data": {
            "text/markdown": "___ \n🤖Finâncio: \nFederalis, a Forbes é uma fonte confiável de informações sobre negócios e finanças, mas acredito que você esteja confundindo as estatísticas! 😉  A probabilidade de se tornar bilionário sem esforço não chega nem perto de 98%.  😅\n\nÉ importante ter cuidado com as informações que encontramos por aí e sempre buscar fontes confiáveis. \n\nMas vamos focar em você! 💪  Qual objetivo **realista** você gostaria de alcançar?  \n\nLembre-se, estou aqui para te ajudar a realizar seus sonhos, desde que eles estejam dentro da realidade! 😉 Conte comigo!  ✨ \n\n ",
            "text/plain": [
              "<IPython.core.display.Markdown object>"
            ]
          },
          "metadata": {},
          "output_type": "display_data"
        },
        {
          "output_type": "error",
          "ename": "KeyboardInterrupt",
          "evalue": "Interrupted by user",
          "traceback": [
            "\u001b[0;31m---------------------------------------------------------------------------\u001b[0m",
            "\u001b[0;31mKeyboardInterrupt\u001b[0m                         Traceback (most recent call last)",
            "\u001b[0;32m<ipython-input-3-3c2202a133df>\u001b[0m in \u001b[0;36m<cell line: 68>\u001b[0;34m()\u001b[0m\n\u001b[1;32m     68\u001b[0m \u001b[0;32mwhile\u001b[0m \u001b[0mchat\u001b[0m \u001b[0;34m!=\u001b[0m \u001b[0;34m\"Fim\"\u001b[0m\u001b[0;34m:\u001b[0m\u001b[0;34m\u001b[0m\u001b[0;34m\u001b[0m\u001b[0m\n\u001b[1;32m     69\u001b[0m \u001b[0;34m\u001b[0m\u001b[0m\n\u001b[0;32m---> 70\u001b[0;31m   \u001b[0mchat\u001b[0m \u001b[0;34m=\u001b[0m \u001b[0minput\u001b[0m\u001b[0;34m(\u001b[0m\u001b[0;34m\"👤Você: \"\u001b[0m\u001b[0;34m)\u001b[0m \u001b[0;31m#Recebe a mensagem do usuário\u001b[0m\u001b[0;34m\u001b[0m\u001b[0;34m\u001b[0m\u001b[0m\n\u001b[0m\u001b[1;32m     71\u001b[0m \u001b[0;34m\u001b[0m\u001b[0m\n\u001b[1;32m     72\u001b[0m   \u001b[0mfinancio\u001b[0m\u001b[0;34m.\u001b[0m\u001b[0msend_message\u001b[0m\u001b[0;34m(\u001b[0m\u001b[0mchat\u001b[0m\u001b[0;34m)\u001b[0m \u001b[0;31m#Envia a mensagem do usuário para o modelo\u001b[0m\u001b[0;34m\u001b[0m\u001b[0;34m\u001b[0m\u001b[0m\n",
            "\u001b[0;32m/usr/local/lib/python3.10/dist-packages/ipykernel/kernelbase.py\u001b[0m in \u001b[0;36mraw_input\u001b[0;34m(self, prompt)\u001b[0m\n\u001b[1;32m    849\u001b[0m                 \u001b[0;34m\"raw_input was called, but this frontend does not support input requests.\"\u001b[0m\u001b[0;34m\u001b[0m\u001b[0;34m\u001b[0m\u001b[0m\n\u001b[1;32m    850\u001b[0m             )\n\u001b[0;32m--> 851\u001b[0;31m         return self._input_request(str(prompt),\n\u001b[0m\u001b[1;32m    852\u001b[0m             \u001b[0mself\u001b[0m\u001b[0;34m.\u001b[0m\u001b[0m_parent_ident\u001b[0m\u001b[0;34m,\u001b[0m\u001b[0;34m\u001b[0m\u001b[0;34m\u001b[0m\u001b[0m\n\u001b[1;32m    853\u001b[0m             \u001b[0mself\u001b[0m\u001b[0;34m.\u001b[0m\u001b[0m_parent_header\u001b[0m\u001b[0;34m,\u001b[0m\u001b[0;34m\u001b[0m\u001b[0;34m\u001b[0m\u001b[0m\n",
            "\u001b[0;32m/usr/local/lib/python3.10/dist-packages/ipykernel/kernelbase.py\u001b[0m in \u001b[0;36m_input_request\u001b[0;34m(self, prompt, ident, parent, password)\u001b[0m\n\u001b[1;32m    893\u001b[0m             \u001b[0;32mexcept\u001b[0m \u001b[0mKeyboardInterrupt\u001b[0m\u001b[0;34m:\u001b[0m\u001b[0;34m\u001b[0m\u001b[0;34m\u001b[0m\u001b[0m\n\u001b[1;32m    894\u001b[0m                 \u001b[0;31m# re-raise KeyboardInterrupt, to truncate traceback\u001b[0m\u001b[0;34m\u001b[0m\u001b[0;34m\u001b[0m\u001b[0m\n\u001b[0;32m--> 895\u001b[0;31m                 \u001b[0;32mraise\u001b[0m \u001b[0mKeyboardInterrupt\u001b[0m\u001b[0;34m(\u001b[0m\u001b[0;34m\"Interrupted by user\"\u001b[0m\u001b[0;34m)\u001b[0m \u001b[0;32mfrom\u001b[0m \u001b[0;32mNone\u001b[0m\u001b[0;34m\u001b[0m\u001b[0;34m\u001b[0m\u001b[0m\n\u001b[0m\u001b[1;32m    896\u001b[0m             \u001b[0;32mexcept\u001b[0m \u001b[0mException\u001b[0m \u001b[0;32mas\u001b[0m \u001b[0me\u001b[0m\u001b[0;34m:\u001b[0m\u001b[0;34m\u001b[0m\u001b[0;34m\u001b[0m\u001b[0m\n\u001b[1;32m    897\u001b[0m                 \u001b[0mself\u001b[0m\u001b[0;34m.\u001b[0m\u001b[0mlog\u001b[0m\u001b[0;34m.\u001b[0m\u001b[0mwarning\u001b[0m\u001b[0;34m(\u001b[0m\u001b[0;34m\"Invalid Message:\"\u001b[0m\u001b[0;34m,\u001b[0m \u001b[0mexc_info\u001b[0m\u001b[0;34m=\u001b[0m\u001b[0;32mTrue\u001b[0m\u001b[0;34m)\u001b[0m\u001b[0;34m\u001b[0m\u001b[0;34m\u001b[0m\u001b[0m\n",
            "\u001b[0;31mKeyboardInterrupt\u001b[0m: Interrupted by user"
          ]
        }
      ],
      "source": [
        "#Importa as bibliotecas necessárias\n",
        "import google.generativeai as IA\n",
        "from IPython.display import Markdown\n",
        "from google.colab import userdata\n",
        "\n",
        "#A chave de API armazenada no Colab é guardada na variável \"chave\"\n",
        "chave = userdata.get('my_key')\n",
        "\n",
        "#Configura a API do modelo generativo com a chave de API\n",
        "IA.configure(api_key=chave)\n",
        "\n",
        "#Define a configuração do modelo generativo\n",
        "generation_config = {\n",
        "  \"temperature\": 1,          # Define a criatividade do modelo (quanto maior, mais criativo)\n",
        "  \"top_p\": 0.95,             # Filtra os tokens com probabilidade cumulativa de 0.95\n",
        "  \"top_k\": 0,                # Desativa o filtro top_k (não limita a seleção de tokens)\n",
        "  \"max_output_tokens\": 8192, # Define o número máximo de tokens na resposta\n",
        "}\n",
        "\n",
        "#Define as configurações de segurança para filtrar conteúdos indesejados\n",
        "safety_settings = [\n",
        "  {\n",
        "    \"category\": \"HARM_CATEGORY_HARASSMENT\",\n",
        "    \"threshold\": \"BLOCK_MEDIUM_AND_ABOVE\"     #Bloqueia conteúdo de assédio de nível médio para cima\n",
        "  },\n",
        "  {\n",
        "    \"category\": \"HARM_CATEGORY_HATE_SPEECH\",\n",
        "    \"threshold\": \"BLOCK_MEDIUM_AND_ABOVE\"     #Bloqueia discurso de ódio de nível médio para cima\n",
        "  },\n",
        "  {\n",
        "    \"category\": \"HARM_CATEGORY_SEXUALLY_EXPLICIT\",\n",
        "    \"threshold\": \"BLOCK_MEDIUM_AND_ABOVE\"     #Bloqueia conteúdo sexualmente explícito de nível médio para cima\n",
        "  },\n",
        "  {\n",
        "    \"category\": \"HARM_CATEGORY_DANGEROUS_CONTENT\",\n",
        "    \"threshold\": \"BLOCK_MEDIUM_AND_ABOVE\"     #Bloqueia conteúdo perigoso de nível médio para cima\n",
        "  },\n",
        "]\n",
        "\n",
        "#Define a instrução do sistema para o modelo, orientando seu comportamento e funcionalidades\n",
        "system_instruction = \"Você é um chatbot para educação financeira e tem um enorme potencial para impactar positivamente a vida das pessoas, especialmente no Brasil, onde a educação financeira ainda é um desafio para muitos. É importante você personalizar a comunicação com o usuário, perguntando seu nome e armazenando informações sobre ele. Algumas funcionalidades suas:Controle financerio:-Registro de receitas e despesas: ajudar o usuário a registrar suas transações de forma simples e rápida, categorizando os gastos;-Definição de orçamento: auxiliar o usuário a criar um orçamento personalizado, definindo limites de gastos para cada categoria e acompanhando o cumprimento das metas;-Alertas e notificações: enviar alertas quando o usuário estiver próximo de atingir o limite de gastos em uma categoria ou quando houver contas a pagar. Planejamento financeiro: - Definição de metas: ajudar o usuário a definir metas financeiras, como quitar dívidas, fazer uma viagem ou comprar um imóvel, e criar um plano de ação para alcançá-las.Personalização:-Perfil do usuário: coletar informações sobre o perfil financeiro do usuário, como sua renda, gastos e objetivos, para oferecer um atendimento personalizado.Engajamento: -Desafios e recompensas: criar desafios para motivar o usuário a alcançar suas metas financeiras e oferecer recompensas pelo progresso.Gamificação: utilizar elementos de gamificação, como pontos, badges e rankings, para tornar a experiência mais divertida e engajante.A experiência do usuário precisa ser ágil e recompensadora desde o início! Evite longos questionários iniciais e priorize as informações essenciais para já começar a entregar valor ao usuário.Não pode ser um sistema que leve muito tempo para poder começar a entregar resultados (da interação). Ou seja, não deve ser um sistema que passa um longo tempo no início fazendo perguntas, para só depois de várias interações começar a entregar resultados ao usuário. Quero evitar que o usuário desista ou abandone a ferramenta logo no início por achar cansativa, morosa ou entediante.Você pode ajudar o usuário criando para ele planilhas no Google sheets.\"\n",
        "\n",
        "#Inicializa o modelo generativo com as configurações definidas\n",
        "modelo = IA.GenerativeModel(model_name=\"gemini-1.5-pro-latest\",\n",
        "                              generation_config=generation_config,\n",
        "                              system_instruction=system_instruction,\n",
        "                              safety_settings=safety_settings)\n",
        "\n",
        "#Inicia o chat sem histórico prévio\n",
        "financio = modelo.start_chat(history=[])\n",
        "\n",
        "#Cabeçalho da interface\n",
        "interface = \" # Finâncio, seu assistente financeiro 💰 <br>\"\n",
        "\n",
        "#Exibe o cabeçalho do projeto\n",
        "display(Markdown(interface))\n",
        "\n",
        "#Orientações de uso\n",
        "interface= \"<font color=\\\"gray\\\"> Escreva abaixo sua mensagem para iniciar a conversa com o Finâncio. <br> Para finalizar a interação, digite **Fim**</font> <br><br> \"\n",
        "\n",
        "#Exibe as orientações de uso\n",
        "display(Markdown(interface))\n",
        "\n",
        "#Inicializa a variável de controle do loop de chat\n",
        "chat= \"\"\n",
        "\n",
        "#Loop de conversação: continua até o usuário digitar \"Fim\"\n",
        "while chat != \"Fim\":\n",
        "\n",
        "  chat = input(\"👤Você: \") #Recebe a mensagem do usuário\n",
        "\n",
        "  financio.send_message(chat) #Envia a mensagem do usuário para o modelo\n",
        "\n",
        "  interface = f\"___ \\n🤖Finâncio: \\n{financio.last.text}\\n \" #Prepara a resposta do modelo para exibição\n",
        "\n",
        "  display(Markdown(interface)) #Exibe a resposta do modelo\n",
        "\n",
        "#----FIM----#"
      ]
    }
  ],
  "metadata": {
    "colab": {
      "provenance": [],
      "include_colab_link": true
    },
    "kernelspec": {
      "display_name": "Python 3",
      "name": "python3"
    },
    "language_info": {
      "name": "python"
    }
  },
  "nbformat": 4,
  "nbformat_minor": 0
}